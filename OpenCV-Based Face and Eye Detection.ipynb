{
 "cells": [
  {
   "cell_type": "markdown",
   "id": "9e2b0958-e337-4415-a1f0-68202e20627a",
   "metadata": {},
   "source": [
    "# **OpenCV-Based Face and Eye Detection Using Haar Cascade Classifier**"
   ]
  },
  {
   "cell_type": "markdown",
   "id": "76b281dc-6e1a-4d09-a914-f3a2468738e3",
   "metadata": {},
   "source": [
    "### **Business Problem:**\n",
    "### **To automatically detect human faces and eyes in images using OpenCV’s Haar Cascade Classifier, enabling quick and accurate identification for applications like security systems, photo tagging, and attendance monitoring..**"
   ]
  },
  {
   "cell_type": "code",
   "execution_count": 3,
   "id": "481ba277-57d9-4e82-b677-3e0d2d98af59",
   "metadata": {},
   "outputs": [],
   "source": [
    "import cv2"
   ]
  },
  {
   "cell_type": "markdown",
   "id": "699aecfe-334c-4129-83d3-012e7c31d7d9",
   "metadata": {},
   "source": [
    "### **Load the Features**"
   ]
  },
  {
   "cell_type": "code",
   "execution_count": 5,
   "id": "18af6ac5-cb73-4f73-b13b-a5f234a9c7cd",
   "metadata": {},
   "outputs": [],
   "source": [
    "face_classifier = cv2.CascadeClassifier(\"E:\\\\AI-ML_SB\\\\9.OpenCV\\\\Haarcascades\\\\haarcascade_frontalface_default.xml\")"
   ]
  },
  {
   "cell_type": "code",
   "execution_count": 6,
   "id": "1e124a0b-54b7-4659-94d9-87b763aa9bcb",
   "metadata": {},
   "outputs": [],
   "source": [
    "eye_classifier = cv2.CascadeClassifier(\"E:\\\\AI-ML_SB\\\\9.OpenCV\\\\Haarcascades\\\\haarcascade_eye.xml\")"
   ]
  },
  {
   "cell_type": "markdown",
   "id": "b95e6030-c5a8-4605-bc99-435de14d761a",
   "metadata": {},
   "source": [
    "### **Loaded the Image on which i want to identify the features**"
   ]
  },
  {
   "cell_type": "code",
   "execution_count": 8,
   "id": "2f779a64-522c-4070-8511-3348f25319e9",
   "metadata": {},
   "outputs": [],
   "source": [
    "# Read the Image\n",
    "image = cv2.imread(\"E:\\\\AI-ML_SB\\\\9.OpenCV\\\\image_examples\\\\Modi.jpg\", 1)"
   ]
  },
  {
   "cell_type": "code",
   "execution_count": 9,
   "id": "bbc1696f-7051-4054-9482-afffe0110095",
   "metadata": {},
   "outputs": [
    {
     "data": {
      "text/plain": [
       "3"
      ]
     },
     "execution_count": 9,
     "metadata": {},
     "output_type": "execute_result"
    }
   ],
   "source": [
    "image.ndim"
   ]
  },
  {
   "cell_type": "code",
   "execution_count": 10,
   "id": "87fd3176-dff0-4ef8-81f6-e604fec05221",
   "metadata": {},
   "outputs": [
    {
     "data": {
      "text/plain": [
       "(1358, 1500, 3)"
      ]
     },
     "execution_count": 10,
     "metadata": {},
     "output_type": "execute_result"
    }
   ],
   "source": [
    "image.shape"
   ]
  },
  {
   "cell_type": "markdown",
   "id": "0524a648-2b91-4a51-9572-88cd034198e4",
   "metadata": {},
   "source": [
    "### **Resize the image**"
   ]
  },
  {
   "cell_type": "code",
   "execution_count": 12,
   "id": "2d7a6bfc-25c6-4832-bb5b-533dcfab684b",
   "metadata": {},
   "outputs": [],
   "source": [
    "resize_image = cv2.resize(image, (679, 750))"
   ]
  },
  {
   "cell_type": "markdown",
   "id": "25af3ebe-d5e8-4e26-9995-d128ce627385",
   "metadata": {},
   "source": [
    "### **Convert color image to gray**"
   ]
  },
  {
   "cell_type": "code",
   "execution_count": 14,
   "id": "29a6c422-9fbd-4c81-ae7f-9bb175a1fac1",
   "metadata": {},
   "outputs": [],
   "source": [
    "gray = cv2.cvtColor(resize_image, cv2.COLOR_BGR2GRAY)"
   ]
  },
  {
   "cell_type": "markdown",
   "id": "4de987ef-96c0-4cd2-abca-b402cdb5bb74",
   "metadata": {},
   "source": [
    "### **Detect the Face & eye in the image**"
   ]
  },
  {
   "cell_type": "code",
   "execution_count": 16,
   "id": "58f8eb9c-313f-4628-9c1b-341d7be65c89",
   "metadata": {},
   "outputs": [],
   "source": [
    "faces = face_classifier.detectMultiScale(gray, 1.05, 5)\n",
    "\n",
    "if faces is None:\n",
    "    print(\"No face found\")\n",
    "for (x,y,w,h) in faces:\n",
    "    cv2.rectangle(resize_image, (x,y), (x+w, y+h), (255, 0, 0), 2)\n",
    "    roi_gray = gray[y:y+h, x:x+w]\n",
    "    roi_color = resize_image[y:y+h, x:x+w]\n",
    "    eyes = eye_classifier.detectMultiScale(roi_gray) \n",
    "    for (ex,ey,eh,ew) in eyes:\n",
    "        cv2.rectangle(roi_color,(ex,ey), (ex+ew, ey+eh), (0,255,0),1)\n",
    "    \n",
    "    "
   ]
  },
  {
   "cell_type": "markdown",
   "id": "e012ed0f-dab5-4cba-870f-e634cb596456",
   "metadata": {},
   "source": [
    "### **Display the Image**"
   ]
  },
  {
   "cell_type": "code",
   "execution_count": 18,
   "id": "418996aa-042c-490d-a170-66fd55d9670a",
   "metadata": {},
   "outputs": [],
   "source": [
    "cv2.imshow('img', resize_image)"
   ]
  },
  {
   "cell_type": "code",
   "execution_count": 19,
   "id": "d62b8776-d54a-43b2-8daa-6f16d221ce59",
   "metadata": {},
   "outputs": [
    {
     "data": {
      "text/plain": [
       "-1"
      ]
     },
     "execution_count": 19,
     "metadata": {},
     "output_type": "execute_result"
    }
   ],
   "source": [
    "cv2.waitKey(10000)"
   ]
  },
  {
   "cell_type": "code",
   "execution_count": 20,
   "id": "5bf9c7a8-937e-4fbb-ba71-08ffab4b2b79",
   "metadata": {},
   "outputs": [],
   "source": [
    "cv2.destroyAllWindows()"
   ]
  },
  {
   "cell_type": "markdown",
   "id": "c2a477f9-5267-447f-9740-39c6f50b6f66",
   "metadata": {},
   "source": [
    "### **Save the Image**"
   ]
  },
  {
   "cell_type": "code",
   "execution_count": 22,
   "id": "016cac9b-1fd8-4297-ba83-fe5338cf1d17",
   "metadata": {},
   "outputs": [
    {
     "data": {
      "text/plain": [
       "True"
      ]
     },
     "execution_count": 22,
     "metadata": {},
     "output_type": "execute_result"
    }
   ],
   "source": [
    "cv2.imwrite(\"Face & Eyes detection from the image.jpg\", resize_image)"
   ]
  }
 ],
 "metadata": {
  "kernelspec": {
   "display_name": "Python 3 (ipykernel)",
   "language": "python",
   "name": "python3"
  },
  "language_info": {
   "codemirror_mode": {
    "name": "ipython",
    "version": 3
   },
   "file_extension": ".py",
   "mimetype": "text/x-python",
   "name": "python",
   "nbconvert_exporter": "python",
   "pygments_lexer": "ipython3",
   "version": "3.12.4"
  }
 },
 "nbformat": 4,
 "nbformat_minor": 5
}
